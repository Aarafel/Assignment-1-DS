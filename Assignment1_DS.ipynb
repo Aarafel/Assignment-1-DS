{
  "cells": [
    {
      "cell_type": "markdown",
      "id": "55145d65",
      "metadata": {
        "id": "55145d65"
      },
      "source": [
        "### 1. Write a NumPy program to test whether none of the elements of a given array is zero."
      ]
    },
    {
      "cell_type": "code",
      "execution_count": 1,
      "id": "c2f97682",
      "metadata": {
        "colab": {
          "base_uri": "https://localhost:8080/"
        },
        "id": "c2f97682",
        "outputId": "109bef1c-2f5b-4d42-9ae9-7c8f5750d742"
      },
      "outputs": [
        {
          "output_type": "stream",
          "name": "stdout",
          "text": [
            "For array arr1: Has no zero numbers\n",
            "For array arr2: Has zero\n"
          ]
        }
      ],
      "source": [
        "import numpy as np\n",
        "def non_zero_checker(arr):\n",
        "    if np.all(arr!= 0):\n",
        "        return \"Has no zero numbers\"\n",
        "    else:\n",
        "        return \"Has zero\"\n",
        "\n",
        "arr1= np.array([1,2,3,4])\n",
        "arr2=np.array([5,6,0,9])\n",
        "\n",
        "print(\"For array arr1:\", non_zero_checker(arr1))\n",
        "print(\"For array arr2:\", non_zero_checker(arr2))\n"
      ]
    },
    {
      "cell_type": "markdown",
      "id": "3a042894",
      "metadata": {
        "id": "3a042894"
      },
      "source": [
        "### 2. Write a NumPy program to test whether any of the elements of a given array is non-zero."
      ]
    },
    {
      "cell_type": "code",
      "execution_count": 2,
      "id": "1e6aa73a",
      "metadata": {
        "colab": {
          "base_uri": "https://localhost:8080/"
        },
        "id": "1e6aa73a",
        "outputId": "ab147010-dceb-43c3-fa34-8d176ef76729"
      },
      "outputs": [
        {
          "output_type": "stream",
          "name": "stdout",
          "text": [
            "For array arr1: Is non-zero\n",
            "For array arr2: is zero\n",
            "For array arr1: False\n",
            "For array arr2: True\n"
          ]
        }
      ],
      "source": [
        "#1\n",
        "import numpy as np\n",
        "def non_zero_checker(arr):\n",
        "    if np.all(arr > 0):\n",
        "        return \"Is non-zero\"\n",
        "    else:\n",
        "        return \"is zero\"\n",
        "\n",
        "arr1= np.array([1,2,3,4])\n",
        "arr2=np.array([5,6,0,9])\n",
        "\n",
        "print(\"For array arr1:\", non_zero_checker(arr1))\n",
        "print(\"For array arr2:\", non_zero_checker(arr2))\n",
        "\n",
        "# or\n",
        "\n",
        "import numpy as np\n",
        "\n",
        "def any_non_zero(arr):\n",
        "    return np.any(arr != 0)\n",
        "\n",
        "# Test the function\n",
        "arr1 = np.array([0, 0, 0, 0, 0])\n",
        "arr2 = np.array([0, 0, 1, 0, 0])\n",
        "\n",
        "print(\"For array arr1:\", any_non_zero(arr1))\n",
        "print(\"For array arr2:\", any_non_zero(arr2))\n"
      ]
    },
    {
      "cell_type": "markdown",
      "id": "4748549e",
      "metadata": {
        "id": "4748549e"
      },
      "source": [
        "### 3. Write a NumPy program to create an element-wise comparison (equal, equal within a tolerance) of two given"
      ]
    },
    {
      "cell_type": "code",
      "execution_count": 3,
      "id": "4919dc28",
      "metadata": {
        "colab": {
          "base_uri": "https://localhost:8080/"
        },
        "id": "4919dc28",
        "outputId": "1b33e115-48d4-4a11-c0ed-6b74e72f18db"
      },
      "outputs": [
        {
          "output_type": "stream",
          "name": "stdout",
          "text": [
            "Element-wise comparison for equality: [ True False  True  True]\n",
            "Element-wise comparison within a tolerance: [ True  True  True  True]\n"
          ]
        }
      ],
      "source": [
        "def elementwise_comparison(arr1,arr2,tolerance=1e-8): #1 followed by 8 zeros)\n",
        "    equal= np.equal(arr1,arr2)\n",
        "\n",
        "    within_tolerance = np.isclose(arr1,arr2, atol =tolerance)\n",
        "\n",
        "    return equal,within_tolerance\n",
        "\n",
        "arr1 = np.array([1.0, 2.0, 3.0, 4.0])\n",
        "arr2 = np.array([1.0, 2.0000001, 3.0, 4.0])\n",
        "\n",
        "equal, within_tolerance = elementwise_comparison(arr1, arr2)\n",
        "print(\"Element-wise comparison for equality:\", equal)\n",
        "print(\"Element-wise comparison within a tolerance:\", within_tolerance)"
      ]
    },
    {
      "cell_type": "markdown",
      "id": "7b2ce6ff",
      "metadata": {
        "id": "7b2ce6ff"
      },
      "source": [
        "### 4. Write a NumPy program to create an array of 10 zeros,10 ones, 10 fives."
      ]
    },
    {
      "cell_type": "code",
      "execution_count": 4,
      "id": "442b0d04",
      "metadata": {
        "colab": {
          "base_uri": "https://localhost:8080/"
        },
        "id": "442b0d04",
        "outputId": "a127b778-24f9-4300-c376-d3290d0235a6"
      },
      "outputs": [
        {
          "output_type": "stream",
          "name": "stdout",
          "text": [
            "Array of 10 zeros: [0 0 0 0 0 0 0 0 0 0]\n",
            "Array of 10 ones: [1 1 1 1 1 1 1 1 1 1]\n",
            "Array of 10 fives: [5 5 5 5 5 5 5 5 5 5]\n",
            "Concatenated array: [0 0 0 0 0 0 0 0 0 0 1 1 1 1 1 1 1 1 1 1 5 5 5 5 5 5 5 5 5 5]\n"
          ]
        }
      ],
      "source": [
        "import numpy as np\n",
        "\n",
        "# Create an array of 10 zeros with dtype=int\n",
        "zeros_array = np.zeros(10, dtype=int)\n",
        "\n",
        "# Create an array of 10 ones with dtype=int\n",
        "ones_array = np.ones(10, dtype=int)\n",
        "\n",
        "# Create an array of 10 fives with dtype=int by multiplying 5 with an array of 10 ones\n",
        "fives_array = 5 * np.ones(10, dtype=int)\n",
        "\n",
        "# Concatenate the arrays to form a single array\n",
        "result_array = np.concatenate([zeros_array, ones_array, fives_array])\n",
        "\n",
        "print(\"Array of 10 zeros:\", zeros_array)\n",
        "print(\"Array of 10 ones:\", ones_array)\n",
        "print(\"Array of 10 fives:\", fives_array)\n",
        "print(\"Concatenated array:\", result_array)\n"
      ]
    },
    {
      "cell_type": "markdown",
      "id": "69ed4da1",
      "metadata": {
        "id": "69ed4da1"
      },
      "source": [
        "### 5. Write a NumPy program to create an array of the integers from 30 to70."
      ]
    },
    {
      "cell_type": "code",
      "execution_count": 5,
      "id": "64811450",
      "metadata": {
        "colab": {
          "base_uri": "https://localhost:8080/"
        },
        "id": "64811450",
        "outputId": "f20849e7-54ff-48f9-cb85-3a0c83d32fdb"
      },
      "outputs": [
        {
          "output_type": "stream",
          "name": "stdout",
          "text": [
            "[30 31 32 33 34 35 36 37 38 39 40 41 42 43 44 45 46 47 48 49 50 51 52 53\n",
            " 54 55 56 57 58 59 60 61 62 63 64 65 66 67 68 69 70]\n"
          ]
        }
      ],
      "source": [
        "### 5. Write a NumPy program to create an array of the integers from 30 to70.\n",
        "integers_array = np.arange(30, 71)\n",
        "print(integers_array)"
      ]
    },
    {
      "cell_type": "markdown",
      "id": "03c98974",
      "metadata": {
        "id": "03c98974"
      },
      "source": [
        "### 6. Write a NumPy program to create a 3x3 identity matrix"
      ]
    },
    {
      "cell_type": "code",
      "execution_count": 6,
      "id": "bfdb7abc",
      "metadata": {
        "colab": {
          "base_uri": "https://localhost:8080/"
        },
        "id": "bfdb7abc",
        "outputId": "362182aa-af7a-4cce-c0ce-603c0f799cb8"
      },
      "outputs": [
        {
          "output_type": "stream",
          "name": "stdout",
          "text": [
            "[[1 0 0]\n",
            " [0 1 0]\n",
            " [0 0 1]]\n"
          ]
        }
      ],
      "source": [
        "identity_matrix=np.eye(3,dtype=int)\n",
        "print(identity_matrix)"
      ]
    },
    {
      "cell_type": "markdown",
      "id": "f0035c80",
      "metadata": {
        "id": "f0035c80"
      },
      "source": [
        "### 7. Write a NumPy program to generate a random number between 0 and 1"
      ]
    },
    {
      "cell_type": "code",
      "execution_count": 7,
      "id": "9b7f2aa9",
      "metadata": {
        "colab": {
          "base_uri": "https://localhost:8080/"
        },
        "id": "9b7f2aa9",
        "outputId": "4aa373ce-f272-476a-b4bf-a9a2620427e5"
      },
      "outputs": [
        {
          "output_type": "stream",
          "name": "stdout",
          "text": [
            "0.36528558852405935\n"
          ]
        }
      ],
      "source": [
        "random_number = np.random.rand()\n",
        "print(random_number)"
      ]
    },
    {
      "cell_type": "markdown",
      "id": "b9fe728c",
      "metadata": {
        "id": "b9fe728c"
      },
      "source": [
        "### 8. Write a NumPy program to generate an array of 15 random numbers from a standard normal distribution"
      ]
    },
    {
      "cell_type": "code",
      "execution_count": 8,
      "id": "82148ea7",
      "metadata": {
        "colab": {
          "base_uri": "https://localhost:8080/"
        },
        "id": "82148ea7",
        "outputId": "d0be5f69-4335-4416-e88e-725b181e8cae"
      },
      "outputs": [
        {
          "output_type": "stream",
          "name": "stdout",
          "text": [
            "Array of 15 random numbers from a standard normal distribution:\n",
            "[ 0.04126414  0.56085852 -1.61852581  1.48950539 -1.18508492 -0.11208119\n",
            " -0.00353329  1.12211045  0.07169765 -0.31721086 -2.41380149 -0.33717484\n",
            "  0.87034297  2.62076469 -0.58522517]\n"
          ]
        }
      ],
      "source": [
        "import numpy as np\n",
        "\n",
        "# Generate an array of 15 random numbers from a standard normal distribution\n",
        "random_numbers = np.random.randn(15)\n",
        "\n",
        "print(\"Array of 15 random numbers from a standard normal distribution:\")\n",
        "print(random_numbers)\n"
      ]
    },
    {
      "cell_type": "markdown",
      "id": "f55f1882",
      "metadata": {
        "id": "f55f1882"
      },
      "source": [
        "### 9. Write a NumPy program to create a vector with values ranging from 15 to 55 and print all values except the first and last."
      ]
    },
    {
      "cell_type": "code",
      "execution_count": 9,
      "id": "3f888933",
      "metadata": {
        "colab": {
          "base_uri": "https://localhost:8080/"
        },
        "id": "3f888933",
        "outputId": "af76e211-be65-4b4e-b832-e3a7e18ca508"
      },
      "outputs": [
        {
          "output_type": "stream",
          "name": "stdout",
          "text": [
            "All values except the first and last: [16 17 18 19 20 21 22 23 24 25 26 27 28 29 30 31 32 33 34 35 36 37 38 39\n",
            " 40 41 42 43 44 45 46 47 48 49 50 51 52 53 54]\n"
          ]
        }
      ],
      "source": [
        "# Create a vector with values ranging from 15 to 55\n",
        "vector = np.arange(15, 56)\n",
        "\n",
        "# Print all values except the first and last\n",
        "print(\"All values except the first and last:\", vector[1:-1])\n"
      ]
    },
    {
      "cell_type": "markdown",
      "id": "cb913070",
      "metadata": {
        "id": "cb913070"
      },
      "source": [
        "### 10. Write a NumPy program to create a vector of length 5 filled with arbitrary integers from 0 to 10"
      ]
    },
    {
      "cell_type": "code",
      "execution_count": 10,
      "id": "07ef5cc9",
      "metadata": {
        "colab": {
          "base_uri": "https://localhost:8080/"
        },
        "id": "07ef5cc9",
        "outputId": "657b9206-643d-48de-84d7-9d667109da4d"
      },
      "outputs": [
        {
          "output_type": "stream",
          "name": "stdout",
          "text": [
            "Vector of length 5 filled with arbitrary integers from 0 to 10: [0 9 3 0 7]\n"
          ]
        }
      ],
      "source": [
        "import numpy as np\n",
        "\n",
        "# Create a vector of length 5 filled with arbitrary integers from 0 to 10\n",
        "vector = np.random.randint(0, 11, size=5)\n",
        "\n",
        "print(\"Vector of length 5 filled with arbitrary integers from 0 to 10:\", vector)\n"
      ]
    },
    {
      "cell_type": "markdown",
      "id": "42774a77",
      "metadata": {
        "id": "42774a77"
      },
      "source": [
        "### 11. Write a NumPy program to create a 10x10 matrix, in which the elements on the borders will be equal to 1, and inside 0."
      ]
    },
    {
      "cell_type": "code",
      "execution_count": 11,
      "id": "a6c5d4b2",
      "metadata": {
        "colab": {
          "base_uri": "https://localhost:8080/"
        },
        "id": "a6c5d4b2",
        "outputId": "a7115104-de14-457d-8886-2fd9a2213268"
      },
      "outputs": [
        {
          "output_type": "execute_result",
          "data": {
            "text/plain": [
              "array([[1, 1, 1, 1, 1, 1, 1, 1, 1, 1],\n",
              "       [1, 0, 0, 0, 0, 0, 0, 0, 0, 1],\n",
              "       [1, 0, 0, 0, 0, 0, 0, 0, 0, 1],\n",
              "       [1, 0, 0, 0, 0, 0, 0, 0, 0, 1],\n",
              "       [1, 0, 0, 0, 0, 0, 0, 0, 0, 1],\n",
              "       [1, 0, 0, 0, 0, 0, 0, 0, 0, 1],\n",
              "       [1, 0, 0, 0, 0, 0, 0, 0, 0, 1],\n",
              "       [1, 0, 0, 0, 0, 0, 0, 0, 0, 1],\n",
              "       [1, 0, 0, 0, 0, 0, 0, 0, 0, 1],\n",
              "       [1, 1, 1, 1, 1, 1, 1, 1, 1, 1]])"
            ]
          },
          "metadata": {},
          "execution_count": 11
        }
      ],
      "source": [
        "import numpy as np\n",
        "\n",
        "# Create a 10x10 matrix filled with zeros\n",
        "matrix = np.zeros((10, 10) ,dtype=int)\n",
        "matrix[0]=1\n",
        "matrix[0: , -1]=1\n",
        "matrix[-1]=1\n",
        "matrix[0: , 0] = 1\n",
        "matrix"
      ]
    },
    {
      "cell_type": "markdown",
      "id": "493bb8e3",
      "metadata": {
        "id": "493bb8e3"
      },
      "source": [
        "### 12. Write a NumPy program to create a 5x5 zero matrix with elements on the main diagonal equal to 1, 2,3, 4, 5."
      ]
    },
    {
      "cell_type": "code",
      "execution_count": 12,
      "id": "13891fe6",
      "metadata": {
        "colab": {
          "base_uri": "https://localhost:8080/"
        },
        "id": "13891fe6",
        "outputId": "afa49b9c-e799-460c-b0e5-1286fad49a49"
      },
      "outputs": [
        {
          "output_type": "stream",
          "name": "stdout",
          "text": [
            "5x5 zero matrix with elements on the main diagonal equal to 1, 2, 3, 4, 5:\n",
            "[[1 0 0 0 0]\n",
            " [0 2 0 0 0]\n",
            " [0 0 3 0 0]\n",
            " [0 0 0 4 0]\n",
            " [0 0 0 0 5]]\n"
          ]
        }
      ],
      "source": [
        "import numpy as np\n",
        "\n",
        "# Create a 5x5 zero matrix\n",
        "matrix = np.zeros((5, 5), dtype=int)\n",
        "\n",
        "# Set the elements on the main diagonal to 1, 2, 3, 4, 5\n",
        "np.fill_diagonal(matrix, [1, 2, 3, 4, 5])\n",
        "\n",
        "print(\"5x5 zero matrix with elements on the main diagonal equal to 1, 2, 3, 4, 5:\")\n",
        "print(matrix)\n"
      ]
    },
    {
      "cell_type": "markdown",
      "id": "565b44a5",
      "metadata": {
        "id": "565b44a5"
      },
      "source": [
        "### 13. Write a NumPy program to create a 4x4 matrix in which 0 and 1 are staggered, with zeros on the main diagonal.\n"
      ]
    },
    {
      "cell_type": "code",
      "execution_count": 13,
      "id": "1a5846fa",
      "metadata": {
        "colab": {
          "base_uri": "https://localhost:8080/"
        },
        "id": "1a5846fa",
        "outputId": "10db0bcb-b349-4aad-a46d-4bb419ed1f02"
      },
      "outputs": [
        {
          "output_type": "stream",
          "name": "stdout",
          "text": [
            "4x4 matrix with 0 and 1 staggered, with zeros on the main diagonal:\n",
            "[[0 1 0 0]\n",
            " [1 0 0 0]\n",
            " [0 0 0 1]\n",
            " [0 0 1 0]]\n"
          ]
        }
      ],
      "source": [
        "import numpy as np\n",
        "\n",
        "# Create a 4x4 zero matrix\n",
        "matrix = np.zeros((4, 4),dtype=int)\n",
        "\n",
        "# Set the elements off the main diagonal to alternate between 0 and 1\n",
        "for i in range(4):\n",
        "    if i % 2 == 0:\n",
        "        matrix[i, i+1] = 1\n",
        "    else:\n",
        "        matrix[i, i-1] = 1\n",
        "\n",
        "print(\"4x4 matrix with 0 and 1 staggered, with zeros on the main diagonal:\")\n",
        "print(matrix)\n"
      ]
    },
    {
      "cell_type": "markdown",
      "id": "ab102c6b",
      "metadata": {
        "id": "ab102c6b"
      },
      "source": [
        "### 14. Write a NumPy program to save two given arrays into a single file in compressed format (.npz for"
      ]
    },
    {
      "cell_type": "code",
      "execution_count": 14,
      "id": "2e69488e",
      "metadata": {
        "id": "2e69488e"
      },
      "outputs": [],
      "source": [
        "\n",
        "import numpy as np\n",
        "\n",
        "# Define two arrays\n",
        "array1 = np.array([1, 2, 3, 4, 5])\n",
        "array2 = np.array([6, 7, 8, 9, 10])\n",
        "\n",
        "# Save the arrays into a single compressed file\n",
        "np.savez_compressed('arrays_compressed.npz', array1=array1, array2=array2)\n"
      ]
    },
    {
      "cell_type": "markdown",
      "id": "4c95ad18",
      "metadata": {
        "id": "4c95ad18"
      },
      "source": [
        "### 15. Write a NumPy program to create a one-dimensional array of forty pseudo-randomly generated values."
      ]
    },
    {
      "cell_type": "code",
      "execution_count": 15,
      "id": "8bc3b0b2",
      "metadata": {
        "colab": {
          "base_uri": "https://localhost:8080/"
        },
        "id": "8bc3b0b2",
        "outputId": "e918a7a0-c168-45c7-c91b-8cb69cba33fe"
      },
      "outputs": [
        {
          "output_type": "stream",
          "name": "stdout",
          "text": [
            "Numbers less than 10 : [1 5]\n",
            "Numbers greater than 10 : [15 20]\n"
          ]
        }
      ],
      "source": [
        "\n",
        "import numpy as np\n",
        "\n",
        "def extract_numbers(array, threshold):\n",
        "    # Extract numbers less than the threshold\n",
        "    less_than_threshold = array[array < threshold]\n",
        "\n",
        "    # Extract numbers greater than the threshold\n",
        "    greater_than_threshold = array[array > threshold]\n",
        "\n",
        "    return less_than_threshold, greater_than_threshold\n",
        "\n",
        "# Test the function\n",
        "array = np.array([1, 5, 10, 15, 20])\n",
        "threshold = 10\n",
        "less_than_threshold, greater_than_threshold = extract_numbers(array, threshold)\n",
        "\n",
        "print(\"Numbers less than\", threshold, \":\", less_than_threshold)\n",
        "print(\"Numbers greater than\", threshold, \":\", greater_than_threshold)"
      ]
    },
    {
      "cell_type": "markdown",
      "id": "42a38bfb",
      "metadata": {
        "id": "42a38bfb"
      },
      "source": [
        "### 16. Write a NumPy program to extract all numbers from a given array which are less and greater than a specified number."
      ]
    },
    {
      "cell_type": "code",
      "execution_count": 16,
      "id": "96fa6b6c",
      "metadata": {
        "colab": {
          "base_uri": "https://localhost:8080/"
        },
        "id": "96fa6b6c",
        "outputId": "f4d90c30-89dd-473b-da42-f96cebf75d9f"
      },
      "outputs": [
        {
          "output_type": "stream",
          "name": "stdout",
          "text": [
            "Numbers less than 10 : [1 5]\n",
            "Numbers greater than 10 : [15 20]\n"
          ]
        }
      ],
      "source": [
        "import numpy as np\n",
        "\n",
        "def extract_numbers(array, threshold):\n",
        "    # Extract numbers less than the threshold\n",
        "    less_than_threshold = array[array < threshold]\n",
        "\n",
        "    # Extract numbers greater than the threshold\n",
        "    greater_than_threshold = array[array > threshold]\n",
        "\n",
        "    return less_than_threshold, greater_than_threshold\n",
        "\n",
        "# Test the function\n",
        "array = np.array([1, 5, 10, 15, 20])\n",
        "threshold = 10\n",
        "less_than_threshold, greater_than_threshold = extract_numbers(array, threshold)\n",
        "\n",
        "print(\"Numbers less than\", threshold, \":\", less_than_threshold)\n",
        "print(\"Numbers greater than\", threshold, \":\", greater_than_threshold)\n"
      ]
    }
  ],
  "metadata": {
    "kernelspec": {
      "display_name": "Python 3 (ipykernel)",
      "language": "python",
      "name": "python3"
    },
    "language_info": {
      "codemirror_mode": {
        "name": "ipython",
        "version": 3
      },
      "file_extension": ".py",
      "mimetype": "text/x-python",
      "name": "python",
      "nbconvert_exporter": "python",
      "pygments_lexer": "ipython3",
      "version": "3.10.9"
    },
    "colab": {
      "provenance": []
    }
  },
  "nbformat": 4,
  "nbformat_minor": 5
}